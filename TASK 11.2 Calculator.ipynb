{
 "cells": [
  {
   "cell_type": "code",
   "execution_count": 12,
   "metadata": {},
   "outputs": [
    {
     "name": "stdout",
     "output_type": "stream",
     "text": [
      "select 2 numbers\n",
      "Number 1 : 10\n",
      "Number 2 : 10\n",
      "press 1 for Addition\n",
      "press 2 for subtraction\n",
      "press 3 for multiplication\n",
      "press 4 for division\n",
      "4\n",
      "1.0\n"
     ]
    }
   ],
   "source": [
    "# TASK 11.2\n",
    "# Ask 2 numbers from users and store it in num1 and num2\n",
    "# Ask user to press 1 for addition,2 for subtraction,3 for multiplication and 4 for division\n",
    "# create 4 seperate functions for each operation (i.e. addition,subtraction,multiplication and division)\n",
    "# based on number given by user,call that perticular function and print the output\n",
    "print (\"select 2 numbers\")\n",
    "num1= int(input(\"Number 1 : \" ))\n",
    "num2= int(input(\"Number 2 : \"))\n",
    "print(\"press 1 for Addition\")\n",
    "print(\"press 2 for subtraction\")\n",
    "print(\"press 3 for multiplication\")\n",
    "print(\"press 4 for division\")\n",
    "num3 = int(input())\n",
    "def add(num1,num2):\n",
    "    return num1 + num2\n",
    "def sub(num1,num2):\n",
    "    return num1-num2\n",
    "def multiply(num1,num2):\n",
    "    return(num1*num2)\n",
    "def divide(num1,num2):\n",
    "    return(num1/num2)\n",
    "if num3 == 1:\n",
    "    print(add(num1,num2))\n",
    "elif num3 == 2:\n",
    "    print(sub(num1,num2))\n",
    "elif num3==3:\n",
    "    print(multiply(num1,num2))\n",
    "elif num3== 4:\n",
    "    print(divide(num1,num2))\n",
    "    "
   ]
  },
  {
   "cell_type": "code",
   "execution_count": null,
   "metadata": {},
   "outputs": [],
   "source": []
  }
 ],
 "metadata": {
  "kernelspec": {
   "display_name": "Python 3",
   "language": "python",
   "name": "python3"
  },
  "language_info": {
   "codemirror_mode": {
    "name": "ipython",
    "version": 3
   },
   "file_extension": ".py",
   "mimetype": "text/x-python",
   "name": "python",
   "nbconvert_exporter": "python",
   "pygments_lexer": "ipython3",
   "version": "3.8.5"
  }
 },
 "nbformat": 4,
 "nbformat_minor": 4
}
