{
 "cells": [
  {
   "cell_type": "code",
   "execution_count": null,
   "metadata": {},
   "outputs": [
    {
     "name": "stdout",
     "output_type": "stream",
     "text": [
      "select two numbers\n"
     ]
    }
   ],
   "source": [
    "# Ask 2 numbers from users and store it in num1 and num2\n",
    "print(\"select two numbers\")\n",
    "num1 = int(input(\"Number 1 : \"))\n",
    "num2 = int(input(\"Number 2 : \"))\n",
    "# Ask user to press 1 for addition,2 for subtraction,3 for multiplication and 4 for division\n",
    "print('Press 1 for Addition,2 for Subtraction,3 for Multiplication and 4 for Division.')\n",
    "press = int(input())\n",
    "if press == int (1)  :\n",
    "    print(num1 + num2)\n",
    "elif press==int (2):\n",
    "    print(num1-num2)\n",
    "\n",
    "elif press== int(3):\n",
    "    print(num1*num2)\n",
    "    \n",
    "elif press == int(4):\n",
    "    print(num1/num2)\n",
    "    "
   ]
  },
  {
   "cell_type": "code",
   "execution_count": null,
   "metadata": {},
   "outputs": [],
   "source": []
  },
  {
   "cell_type": "code",
   "execution_count": null,
   "metadata": {},
   "outputs": [],
   "source": [
    "\n"
   ]
  }
 ],
 "metadata": {
  "kernelspec": {
   "display_name": "Python 3",
   "language": "python",
   "name": "python3"
  },
  "language_info": {
   "codemirror_mode": {
    "name": "ipython",
    "version": 3
   },
   "file_extension": ".py",
   "mimetype": "text/x-python",
   "name": "python",
   "nbconvert_exporter": "python",
   "pygments_lexer": "ipython3",
   "version": "3.8.5"
  }
 },
 "nbformat": 4,
 "nbformat_minor": 4
}
