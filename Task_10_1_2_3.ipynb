{
  "nbformat": 4,
  "nbformat_minor": 0,
  "metadata": {
    "colab": {
      "name": "Task 10.1.2.3.ipynb",
      "provenance": []
    },
    "kernelspec": {
      "name": "python3",
      "display_name": "Python 3"
    }
  },
  "cells": [
    {
      "cell_type": "code",
      "metadata": {
        "colab": {
          "base_uri": "https://localhost:8080/"
        },
        "id": "xQw4yztVXxed",
        "outputId": "64b008be-5f92-4089-bc71-cf9a3b7f2118"
      },
      "source": [
        "# TASK 10.1\r\n",
        "# what is the usage of continue with an example\r\n",
        "# we use continue to remove the unwanted stuff from the loop and complete the given condition.\r\n",
        "# The continue keyword is used to end the current iteration in a for loop (or a while loop), and continues to the next iteration.\r\n",
        "for i in range(1,11):\r\n",
        "      if i == 5:\r\n",
        "        continue\r\n",
        "      print(i)\r\n"
      ],
      "execution_count": 23,
      "outputs": [
        {
          "output_type": "stream",
          "text": [
            "1\n",
            "2\n",
            "3\n",
            "4\n",
            "6\n",
            "7\n",
            "8\n",
            "9\n",
            "10\n"
          ],
          "name": "stdout"
        }
      ]
    },
    {
      "cell_type": "code",
      "metadata": {
        "id": "X0brJiHxaYvh"
      },
      "source": [
        "#TASK 10.2\r\n",
        "# what is pass keyword, explain with example\r\n",
        "# pass keyword does nothing but you can avoid getting an error when empty code is not allowed.\r\n",
        "# Empty code is not allowed in loops,if else conditions,functions,Classes etcg\r\n",
        "# we can pass on the code without executing it\r\n",
        "x = 10\r\n",
        "y = 20\r\n",
        "if x < y:\r\n",
        "  pass\r\n",
        "else:\r\n",
        "  print(\"X is not greator than y\")\r\n"
      ],
      "execution_count": 27,
      "outputs": []
    },
    {
      "cell_type": "code",
      "metadata": {
        "id": "a4O6Q1vti0sO"
      },
      "source": [
        "if 10<100:\r\n",
        "  pass"
      ],
      "execution_count": 40,
      "outputs": []
    },
    {
      "cell_type": "code",
      "metadata": {
        "colab": {
          "base_uri": "https://localhost:8080/"
        },
        "id": "xbMl9uiKlX3Z",
        "outputId": "13736cf7-4bba-4b62-9a83-a836e9685927"
      },
      "source": [
        "# TASK 10.3\r\n",
        "# using while loop print numbers from 10 to 1\r\n",
        "# try using for loop to loop over tuples,sets and dictionaries\r\n",
        "count = 10\r\n",
        "while (count>0):\r\n",
        " print(count)\r\n",
        " count -= 1"
      ],
      "execution_count": 65,
      "outputs": [
        {
          "output_type": "stream",
          "text": [
            "10\n",
            "9\n",
            "8\n",
            "7\n",
            "6\n",
            "5\n",
            "4\n",
            "3\n",
            "2\n",
            "1\n"
          ],
          "name": "stdout"
        }
      ]
    },
    {
      "cell_type": "code",
      "metadata": {
        "colab": {
          "base_uri": "https://localhost:8080/"
        },
        "id": "c5HLw0gOuDM0",
        "outputId": "f9b2171d-2036-47ac-b385-076e0db000fe"
      },
      "source": [
        "# TASK 10.3\r\n",
        "#  try using for loop to loop over tuples,sets and dictionaries\r\n",
        "a={\"name\":\"mustafa\",\"surname\":\"hakimi\",}\r\n",
        "for z in a:\r\n",
        "  print(a)"
      ],
      "execution_count": 79,
      "outputs": [
        {
          "output_type": "stream",
          "text": [
            "{'name': 'mustafa', 'surname': 'hakimi'}\n",
            "{'name': 'mustafa', 'surname': 'hakimi'}\n"
          ],
          "name": "stdout"
        }
      ]
    },
    {
      "cell_type": "code",
      "metadata": {
        "colab": {
          "base_uri": "https://localhost:8080/"
        },
        "id": "vrVAwECBv6cL",
        "outputId": "1055d449-d43c-464e-ae8d-a754e1fd9ef4"
      },
      "source": [
        "a={\"name\":\"mustafa\",\"surname\":\"hakimi\",}\r\n",
        "for x in a:\r\n",
        "  print(a[x])"
      ],
      "execution_count": 86,
      "outputs": [
        {
          "output_type": "stream",
          "text": [
            "mustafa\n",
            "hakimi\n"
          ],
          "name": "stdout"
        }
      ]
    },
    {
      "cell_type": "code",
      "metadata": {
        "id": "TWBE3h1axUiS"
      },
      "source": [
        ""
      ],
      "execution_count": null,
      "outputs": []
    }
  ]
}