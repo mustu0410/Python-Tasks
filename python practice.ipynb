{
 "cells": [
  {
   "cell_type": "code",
   "execution_count": 8,
   "metadata": {},
   "outputs": [
    {
     "name": "stdout",
     "output_type": "stream",
     "text": [
      "alefiya\n"
     ]
    }
   ],
   "source": [
    "print ('alefiya')"
   ]
  },
  {
   "cell_type": "code",
   "execution_count": 1,
   "metadata": {},
   "outputs": [
    {
     "name": "stdout",
     "output_type": "stream",
     "text": [
      "hello world\n"
     ]
    }
   ],
   "source": [
    "print(\"hello world\")"
   ]
  },
  {
   "cell_type": "code",
   "execution_count": 2,
   "metadata": {},
   "outputs": [
    {
     "name": "stdout",
     "output_type": "stream",
     "text": [
      "hello world\n",
      "hello world\n",
      "hello\n",
      "world\n",
      "25 50 75\n",
      "hello mustafaI have fruits which are orange and apple\n",
      "i have two fruits and they are orange and apple\n",
      "hello mustafa world\n",
      "<function python_version at 0x0000000002CD8040>\n",
      "i have two fruits one is apple other is orange\n",
      "my two fruits are orange and apple\n",
      "my two fruits are apple and orange\n",
      "hello mustafa world\n"
     ]
    }
   ],
   "source": [
    "print(\"hello world\")\n",
    "\n",
    "x = 'hello'\n",
    "y = 'world'\n",
    "print (x,y)\n",
    "\n",
    "x = 'hello'\n",
    "y = 'world'\n",
    "print(x)\n",
    "print (y)\n",
    "\n",
    "age = 25\n",
    "Age = 50\n",
    "AGE = 75\n",
    "print (age,Age,AGE)\n",
    "\n",
    "print (x , end= \n",
    "       ' mustafa')\n",
    "\n",
    "fruit1 = 'orange'\n",
    "fruit2 = 'apple'\n",
    "print(\"I have fruits which are \" +fruit1 +\" and \"+fruit2)\n",
    "\n",
    "print(\"i have two fruits and they are {} and {}\".format(fruit1,fruit2))\n",
    "\n",
    "print(x,'mustafa '+ y)\n",
    "\n",
    "import platform\n",
    "print (platform.python_version)\n",
    "\n",
    "print('i have two fruits one is {1} other is {0}'.format(fruit1,fruit2))\n",
    "\n",
    "print(\"my two fruits are {} and {}\".format(fruit1,fruit2))\n",
    "\n",
    "print(\"my two fruits are {1} and {0}\".format(fruit1,fruit2))\n",
    "\n",
    "print(x+' mustafa',y)\n",
    "\n"
   ]
  },
  {
   "cell_type": "code",
   "execution_count": null,
   "metadata": {},
   "outputs": [],
   "source": []
  }
 ],
 "metadata": {
  "kernelspec": {
   "display_name": "Python 3",
   "language": "python",
   "name": "python3"
  },
  "language_info": {
   "codemirror_mode": {
    "name": "ipython",
    "version": 3
   },
   "file_extension": ".py",
   "mimetype": "text/x-python",
   "name": "python",
   "nbconvert_exporter": "python",
   "pygments_lexer": "ipython3",
   "version": "3.8.5"
  }
 },
 "nbformat": 4,
 "nbformat_minor": 4
}
